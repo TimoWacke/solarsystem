{
 "cells": [
  {
   "cell_type": "code",
   "execution_count": null,
   "metadata": {},
   "outputs": [],
   "source": []
  },
  {
   "cell_type": "code",
   "execution_count": 29,
   "metadata": {},
   "outputs": [],
   "source": [
    "import numpy as np\n",
    "import matplotlib.pyplot as plt\n",
    "\n",
    "gravConst = 6.6743 * (10**(-11)) \n",
    "mass_sun = 1.989 * (10**30) * gravConst\n",
    "mass_mercury = 3.285 * (10**23)  * gravConst\n",
    "mass_venus = 4.867 * (10**24)  * gravConst\n",
    "mass_earth = 5.972 * (10**24)  * gravConst\n",
    "mass_mars = 6.39 * (10**23)  * gravConst\n",
    "mass_moon = 7.342 * (10**22)  * gravConst\n",
    "distance_mercury = 63.867 * (10**9)\n",
    "distance_venus = 108.84 * (10**9)\n",
    "distance_earth = 152.1 * (10**9)\n",
    "distance_mars = 230.66 * (10**9)\n",
    "distance_moon = 384.4 * (10**6)\n",
    "velocity_mercury = 47870\n",
    "velocity_venus = 35020\n",
    "velocity_earth = 29300\n",
    "velocity_mars = 24077\n",
    "velocity_moon = 1022\n",
    "offsetspeed = np.array([000, 000, 0])\n",
    "\n",
    "year = 60 * 60 * 24* 365.2"
   ]
  },
  {
   "cell_type": "markdown",
   "metadata": {},
   "source": [
    "Defining a general class for a Particle with a mass a position and a velocity.\n",
    "\n",
    "Where the actual mass is equal to\n",
    "$$ \\frac{self.mass}{G}$$"
   ]
  },
  {
   "cell_type": "code",
   "execution_count": 30,
   "metadata": {},
   "outputs": [],
   "source": [
    "class Particle:\n",
    "    def __init__(self, name, mass, coord, velocity, color):\n",
    "        self.name = name\n",
    "        self.mass = mass\n",
    "        self.coord = np.array([coord[\"x\"], coord[\"y\"], coord[\"z\"]])\n",
    "        self.velocity = np.array([velocity[\"x\"],velocity[\"y\"], velocity[\"z\"]])\n",
    "        self.color = color\n",
    "    \n",
    "    #def accelerate(self, force, dt):\n",
    "    #    # delta is the velocity the particle is accelerated by in the timestep dt\n",
    "    #    a = force / (self.mass / gravConst)\n",
    "    #    delta = a * dt\n",
    "    #    self.velocity = self.velocity + delta\n",
    "\n",
    "    def move(self, dt):\n",
    "        # delta is the distance the particle is moved by in the timestep dt\n",
    "        delta = self.velocity * dt\n",
    "        self.coord = self.coord + delta\n",
    "\n",
    "    def kineticEnergy(self):\n",
    "        return self.mass / 2 * np.linalg.norm(self.velocity)**2\n",
    "\n",
    "    def potEnergy(self, otherParticle):\n",
    "        diff = np.subtract(self.coord, otherParticle.coord)\n",
    "        radius = np.linalg.norm(diff)\n",
    "        return - self.mass * otherParticle.mass / radius\n",
    "\n",
    "    def gravityForcedAcceleration(self, other, dt):\n",
    "        diff = np.subtract(other.coord, self.coord)\n",
    "        radius = np.linalg.norm(diff)\n",
    "        self.velocity += diff * other.mass / (radius**3)\n",
    "        other.mass -= diff * self.mass / (radius**3)\n",
    "        #return force that applys on self\n",
    "        #return f_abs * (diff/radius)\n",
    "    "
   ]
  },
  {
   "cell_type": "markdown",
   "metadata": {},
   "source": [
    "Create Particles (Solar System)"
   ]
  },
  {
   "cell_type": "code",
   "execution_count": 31,
   "metadata": {},
   "outputs": [],
   "source": [
    "\n",
    "star = Particle(\"Sun\", mass_sun, {\"x\": 0, \"y\": 0, \"z\": 0 },{\"x\": 0, \"y\": 0, \"z\": 0 }, \"#FFEE77\" )\n",
    "#star = Particle(\"sun\", 1000, {\"x\": 0, \"y\": 0, \"z\": 0 },{\"x\": -0.001, \"y\": 0, \"z\": 0 } )\n",
    "mercury = Particle(\"Mercury\", mass_mercury, {\"x\": 0, \"y\": distance_mercury, \"z\": 0 },{\"x\": velocity_mercury, \"y\": 0, \"z\": 0 }, \"#DDCC44\" )\n",
    "venus = Particle(\"Venus\", mass_venus, {\"x\": 0, \"y\": distance_venus, \"z\": 0 },{\"x\": velocity_venus, \"y\": 0, \"z\": 0 }, \"#884400\" )\n",
    "earth = Particle(\"Earth\", mass_earth, {\"x\": 0, \"y\": distance_earth, \"z\": 0 },{\"x\": velocity_earth, \"y\": 0, \"z\": 0 }, \"#002277\" )\n",
    "mars = Particle(\"Mars\", mass_mars, {\"x\": 0, \"y\": distance_mars, \"z\": 0 },{\"x\": velocity_mars, \"y\": 0, \"z\": 0 }, \"#EE1111\" )\n",
    "moon = Particle(\"Moon\", mass_moon, {\"x\": distance_moon, \"y\": distance_earth, \"z\": 0 },{\"x\": velocity_earth, \"y\": velocity_moon, \"z\": 0 }, \"#666666\")\n",
    "particles = [star, mercury, venus, earth, mars, moon]\n",
    "particles = [star, earth]\n",
    "particleSizes = []\n",
    "particleColors = []\n",
    "for pt in particles:\n",
    "    pt.velocity += offsetspeed\n",
    "    particleSizes.append((pt.mass**(1/5) / mass_sun**(1/5) * 9))\n",
    "    particleColors.append(pt.color)\n",
    "\n",
    "s, c = np.random.random((len(particles), 2)).T\n",
    "s *= 10\n",
    "s = particleSizes\n",
    "#c = particleColors\n",
    "\n"
   ]
  },
  {
   "cell_type": "markdown",
   "metadata": {},
   "source": [
    "Verlet Algorithm"
   ]
  },
  {
   "cell_type": "code",
   "execution_count": 32,
   "metadata": {},
   "outputs": [],
   "source": [
    "def verlet(particles, h, n):\n",
    "    mmin = np.amin(particles[0].coord)\n",
    "    mmax = np.amax(particles[0].coord)\n",
    "    t_axis = np.linspace(0, n*h, num=n)\n",
    "    energy = np.zeros(n)\n",
    "    p_axes = []\n",
    "    for p in particles:\n",
    "        p_axes.append([np.zeros(n), np.zeros(n), np.zeros(n)])\n",
    "\n",
    "    for pti in particles:\n",
    "        for ptj in particles: \n",
    "            if ptj == pti:\n",
    "                break\n",
    "            #force = pti.gravityForce(ptj)\n",
    "            #ptj.accelerate(-force, h/2)\n",
    "            #pti.accelerate(force, h/2)\n",
    "            pti.gravityForcedAcceleration(ptj, h/2)\n",
    "    for i in range(n):\n",
    "        for pt in particles:\n",
    "            pt.move(h)\n",
    "        for pti in particles:\n",
    "            for ptj in particles: \n",
    "                if pti == ptj:\n",
    "                    break\n",
    "                energy[i] += pti.potEnergy(ptj)\n",
    "                #force = pti.gravityForce(ptj)\n",
    "                #pti.accelerate(force, h)\n",
    "                #ptj.accelerate(force, h)\n",
    "                pti.gravityForcedAcceleration(ptj, h)\n",
    "        for p, pt in enumerate(particles):\n",
    "            energy[i] += pt.kineticEnergy()\n",
    "            p_axes[p][0][i] = pt.coord[0]\n",
    "            p_axes[p][1][i] = pt.coord[1]\n",
    "            p_axes[p][2][i] = pt.coord[2]\n",
    "            mmin = min(mmin, np.amin(pt.coord))\n",
    "            mmax = max(mmax, np.amax(pt.coord))\n",
    "        if i/n*100%10 == 0: \n",
    "            print(i/n*100,\"%\")\n",
    "   \n",
    "    fig , ax = plt.subplots()\n",
    "    \n",
    "    for p, pt in enumerate(particles):\n",
    "        ax.plot(p_axes[p][0],  p_axes[p][1], c=pt.color, label=pt.name)\n",
    "    mmin -= (mmax - mmin) / 25\n",
    "    mmax += (mmax - mmin) / 25\n",
    "    fig.set_figwidth(20)\n",
    "    fig.set_figheight(20)\n",
    "    plt.xlim([mmin, mmax])\n",
    "    plt.ylim([mmin, mmax])\n",
    "    plt.legend()\n",
    "    plt.show()\n",
    "\n",
    "    fig2 , ax2 = plt.subplots()\n",
    "    ax2.plot(t_axis, energy, 'r-', label='energy')\n",
    "    \n",
    "    plt.legend()\n",
    "    plt.show()\n",
    "\n",
    "    return (p_axes, mmin, mmax)\n",
    "\n"
   ]
  },
  {
   "cell_type": "code",
   "execution_count": 33,
   "metadata": {},
   "outputs": [
    {
     "ename": "UFuncTypeError",
     "evalue": "Cannot cast ufunc 'add' output from dtype('float64') to dtype('int32') with casting rule 'same_kind'",
     "output_type": "error",
     "traceback": [
      "\u001b[1;31m---------------------------------------------------------------------------\u001b[0m",
      "\u001b[1;31mUFuncTypeError\u001b[0m                            Traceback (most recent call last)",
      "\u001b[1;32m<ipython-input-33-8be003d798b7>\u001b[0m in \u001b[0;36m<module>\u001b[1;34m\u001b[0m\n\u001b[0;32m      1\u001b[0m \u001b[0minterval\u001b[0m \u001b[1;33m=\u001b[0m \u001b[1;36m10000\u001b[0m\u001b[1;33m;\u001b[0m\u001b[1;33m\u001b[0m\u001b[1;33m\u001b[0m\u001b[0m\n\u001b[0;32m      2\u001b[0m \u001b[0msteps\u001b[0m \u001b[1;33m=\u001b[0m \u001b[1;36m10000\u001b[0m\u001b[1;33m\u001b[0m\u001b[1;33m\u001b[0m\u001b[0m\n\u001b[1;32m----> 3\u001b[1;33m \u001b[0mp_axes\u001b[0m\u001b[1;33m,\u001b[0m \u001b[0mmmin\u001b[0m\u001b[1;33m,\u001b[0m \u001b[0mmmax\u001b[0m \u001b[1;33m=\u001b[0m \u001b[0mverlet\u001b[0m\u001b[1;33m(\u001b[0m\u001b[0mparticles\u001b[0m\u001b[1;33m,\u001b[0m \u001b[0minterval\u001b[0m\u001b[1;33m,\u001b[0m \u001b[0msteps\u001b[0m\u001b[1;33m)\u001b[0m\u001b[1;33m\u001b[0m\u001b[1;33m\u001b[0m\u001b[0m\n\u001b[0m\u001b[0;32m      4\u001b[0m \u001b[1;33m\u001b[0m\u001b[0m\n\u001b[0;32m      5\u001b[0m \u001b[1;31m#verlet(particles, 0.1, 60000)\u001b[0m\u001b[1;33m\u001b[0m\u001b[1;33m\u001b[0m\u001b[1;33m\u001b[0m\u001b[0m\n",
      "\u001b[1;32m<ipython-input-32-73e7e54b2f67>\u001b[0m in \u001b[0;36mverlet\u001b[1;34m(particles, h, n)\u001b[0m\n\u001b[0;32m     15\u001b[0m             \u001b[1;31m#ptj.accelerate(-force, h/2)\u001b[0m\u001b[1;33m\u001b[0m\u001b[1;33m\u001b[0m\u001b[1;33m\u001b[0m\u001b[0m\n\u001b[0;32m     16\u001b[0m             \u001b[1;31m#pti.accelerate(force, h/2)\u001b[0m\u001b[1;33m\u001b[0m\u001b[1;33m\u001b[0m\u001b[1;33m\u001b[0m\u001b[0m\n\u001b[1;32m---> 17\u001b[1;33m             \u001b[0mpti\u001b[0m\u001b[1;33m.\u001b[0m\u001b[0mgravityForcedAcceleration\u001b[0m\u001b[1;33m(\u001b[0m\u001b[0mptj\u001b[0m\u001b[1;33m,\u001b[0m \u001b[0mh\u001b[0m\u001b[1;33m/\u001b[0m\u001b[1;36m2\u001b[0m\u001b[1;33m)\u001b[0m\u001b[1;33m\u001b[0m\u001b[1;33m\u001b[0m\u001b[0m\n\u001b[0m\u001b[0;32m     18\u001b[0m     \u001b[1;32mfor\u001b[0m \u001b[0mi\u001b[0m \u001b[1;32min\u001b[0m \u001b[0mrange\u001b[0m\u001b[1;33m(\u001b[0m\u001b[0mn\u001b[0m\u001b[1;33m)\u001b[0m\u001b[1;33m:\u001b[0m\u001b[1;33m\u001b[0m\u001b[1;33m\u001b[0m\u001b[0m\n\u001b[0;32m     19\u001b[0m         \u001b[1;32mfor\u001b[0m \u001b[0mpt\u001b[0m \u001b[1;32min\u001b[0m \u001b[0mparticles\u001b[0m\u001b[1;33m:\u001b[0m\u001b[1;33m\u001b[0m\u001b[1;33m\u001b[0m\u001b[0m\n",
      "\u001b[1;32m<ipython-input-30-3f067c80f83c>\u001b[0m in \u001b[0;36mgravityForcedAcceleration\u001b[1;34m(self, other, dt)\u001b[0m\n\u001b[0;32m     29\u001b[0m         \u001b[0mdiff\u001b[0m \u001b[1;33m=\u001b[0m \u001b[0mnp\u001b[0m\u001b[1;33m.\u001b[0m\u001b[0msubtract\u001b[0m\u001b[1;33m(\u001b[0m\u001b[0mother\u001b[0m\u001b[1;33m.\u001b[0m\u001b[0mcoord\u001b[0m\u001b[1;33m,\u001b[0m \u001b[0mself\u001b[0m\u001b[1;33m.\u001b[0m\u001b[0mcoord\u001b[0m\u001b[1;33m)\u001b[0m\u001b[1;33m\u001b[0m\u001b[1;33m\u001b[0m\u001b[0m\n\u001b[0;32m     30\u001b[0m         \u001b[0mradius\u001b[0m \u001b[1;33m=\u001b[0m \u001b[0mnp\u001b[0m\u001b[1;33m.\u001b[0m\u001b[0mlinalg\u001b[0m\u001b[1;33m.\u001b[0m\u001b[0mnorm\u001b[0m\u001b[1;33m(\u001b[0m\u001b[0mdiff\u001b[0m\u001b[1;33m)\u001b[0m\u001b[1;33m\u001b[0m\u001b[1;33m\u001b[0m\u001b[0m\n\u001b[1;32m---> 31\u001b[1;33m         \u001b[0mself\u001b[0m\u001b[1;33m.\u001b[0m\u001b[0mvelocity\u001b[0m \u001b[1;33m+=\u001b[0m \u001b[0mdiff\u001b[0m \u001b[1;33m*\u001b[0m \u001b[0mother\u001b[0m\u001b[1;33m.\u001b[0m\u001b[0mmass\u001b[0m \u001b[1;33m/\u001b[0m \u001b[1;33m(\u001b[0m\u001b[0mradius\u001b[0m\u001b[1;33m**\u001b[0m\u001b[1;36m3\u001b[0m\u001b[1;33m)\u001b[0m\u001b[1;33m\u001b[0m\u001b[1;33m\u001b[0m\u001b[0m\n\u001b[0m\u001b[0;32m     32\u001b[0m         \u001b[0mother\u001b[0m\u001b[1;33m.\u001b[0m\u001b[0mmass\u001b[0m \u001b[1;33m-=\u001b[0m \u001b[0mdiff\u001b[0m \u001b[1;33m*\u001b[0m \u001b[0mself\u001b[0m\u001b[1;33m.\u001b[0m\u001b[0mmass\u001b[0m \u001b[1;33m/\u001b[0m \u001b[1;33m(\u001b[0m\u001b[0mradius\u001b[0m\u001b[1;33m**\u001b[0m\u001b[1;36m3\u001b[0m\u001b[1;33m)\u001b[0m\u001b[1;33m\u001b[0m\u001b[1;33m\u001b[0m\u001b[0m\n\u001b[0;32m     33\u001b[0m         \u001b[1;31m#return force that applys on self\u001b[0m\u001b[1;33m\u001b[0m\u001b[1;33m\u001b[0m\u001b[1;33m\u001b[0m\u001b[0m\n",
      "\u001b[1;31mUFuncTypeError\u001b[0m: Cannot cast ufunc 'add' output from dtype('float64') to dtype('int32') with casting rule 'same_kind'"
     ]
    }
   ],
   "source": [
    "interval = 10000;\n",
    "steps = 10000\n",
    "p_axes, mmin, mmax = verlet(particles, interval, steps)\n",
    "\n",
    "#verlet(particles, 0.1, 60000)"
   ]
  },
  {
   "attachments": {},
   "cell_type": "markdown",
   "metadata": {},
   "source": [
    "### Animate\n"
   ]
  },
  {
   "cell_type": "code",
   "execution_count": null,
   "metadata": {},
   "outputs": [],
   "source": [
    "def positionGenerator():\n",
    "    xpositions = []\n",
    "    ypositions = []\n",
    "    i=0\n",
    "    skip = int(steps / 500)\n",
    "    while i < 500:\n",
    "        xpositions = []\n",
    "        ypositions = []\n",
    "        if (i/5)%10 == 0:\n",
    "            print(i/500*100 , \"%\", i*skip)\n",
    "        for p in p_axes:\n",
    "            xpositions.append(p[0][int(i * skip)])\n",
    "            ypositions.append(p[1][int(i * skip)])\n",
    "        i+= 1\n",
    "        yield np.c_[xpositions, ypositions]\n",
    "    return"
   ]
  },
  {
   "cell_type": "code",
   "execution_count": null,
   "metadata": {},
   "outputs": [
    {
     "name": "stdout",
     "output_type": "stream",
     "text": [
      "0.0 % 0\n",
      "10.0 % 1000\n",
      "20.0 % 2000\n",
      "30.0 % 3000\n",
      "40.0 % 4000\n",
      "50.0 % 5000\n",
      "60.0 % 6000\n",
      "70.0 % 7000\n",
      "80.0 % 8000\n",
      "90.0 % 9000\n"
     ]
    },
    {
     "ename": "StopIteration",
     "evalue": "",
     "output_type": "error",
     "traceback": [
      "\u001b[1;31m---------------------------------------------------------------------------\u001b[0m",
      "\u001b[1;31mStopIteration\u001b[0m                             Traceback (most recent call last)",
      "\u001b[1;32m<ipython-input-28-0c7342423d3f>\u001b[0m in \u001b[0;36m<module>\u001b[1;34m\u001b[0m\n\u001b[0;32m     54\u001b[0m         \u001b[1;32mreturn\u001b[0m \u001b[0mself\u001b[0m\u001b[1;33m.\u001b[0m\u001b[0mscat\u001b[0m\u001b[1;33m,\u001b[0m\u001b[1;33m\u001b[0m\u001b[1;33m\u001b[0m\u001b[0m\n\u001b[0;32m     55\u001b[0m \u001b[1;33m\u001b[0m\u001b[0m\n\u001b[1;32m---> 56\u001b[1;33m \u001b[0ma\u001b[0m \u001b[1;33m=\u001b[0m \u001b[0mAnimatedScatter\u001b[0m\u001b[1;33m(\u001b[0m\u001b[1;33m)\u001b[0m\u001b[1;33m\u001b[0m\u001b[1;33m\u001b[0m\u001b[0m\n\u001b[0m\u001b[0;32m     57\u001b[0m \u001b[0mplt\u001b[0m\u001b[1;33m.\u001b[0m\u001b[0mshow\u001b[0m\u001b[1;33m(\u001b[0m\u001b[1;33m)\u001b[0m\u001b[1;33m\u001b[0m\u001b[1;33m\u001b[0m\u001b[0m\n",
      "\u001b[1;32m<ipython-input-28-0c7342423d3f>\u001b[0m in \u001b[0;36m__init__\u001b[1;34m(self, numpoints)\u001b[0m\n\u001b[0;32m     24\u001b[0m         self.ani = animation.FuncAnimation(self.fig, self.update, interval=25, frames=500,\n\u001b[0;32m     25\u001b[0m                                            init_func=self.setup_plot, blit=True)\n\u001b[1;32m---> 26\u001b[1;33m         \u001b[0mself\u001b[0m\u001b[1;33m.\u001b[0m\u001b[0mani\u001b[0m\u001b[1;33m.\u001b[0m\u001b[0msave\u001b[0m\u001b[1;33m(\u001b[0m\u001b[1;34m'scatter.mp4'\u001b[0m\u001b[1;33m,\u001b[0m \u001b[0mwriter\u001b[0m\u001b[1;33m=\u001b[0m\u001b[1;34m'ffmpeg'\u001b[0m\u001b[1;33m,\u001b[0m \u001b[0mfps\u001b[0m\u001b[1;33m=\u001b[0m\u001b[1;36m40\u001b[0m\u001b[1;33m,\u001b[0m \u001b[0mdpi\u001b[0m\u001b[1;33m=\u001b[0m\u001b[1;36m100\u001b[0m\u001b[1;33m,\u001b[0m \u001b[0mmetadata\u001b[0m\u001b[1;33m=\u001b[0m\u001b[1;33m{\u001b[0m\u001b[1;34m'title'\u001b[0m\u001b[1;33m:\u001b[0m\u001b[1;34m'test'\u001b[0m\u001b[1;33m}\u001b[0m\u001b[1;33m)\u001b[0m\u001b[1;33m\u001b[0m\u001b[1;33m\u001b[0m\u001b[0m\n\u001b[0m\u001b[0;32m     27\u001b[0m         \u001b[1;31m#video = self.ani.to_html5_video()\u001b[0m\u001b[1;33m\u001b[0m\u001b[1;33m\u001b[0m\u001b[1;33m\u001b[0m\u001b[0m\n\u001b[0;32m     28\u001b[0m         \u001b[1;31m#html = display.HTML(video)\u001b[0m\u001b[1;33m\u001b[0m\u001b[1;33m\u001b[0m\u001b[1;33m\u001b[0m\u001b[0m\n",
      "\u001b[1;32mc:\\ProgramData\\Anaconda3\\lib\\site-packages\\matplotlib\\animation.py\u001b[0m in \u001b[0;36msave\u001b[1;34m(self, filename, writer, fps, dpi, codec, bitrate, extra_args, metadata, extra_anim, savefig_kwargs, progress_callback)\u001b[0m\n\u001b[0;32m   1139\u001b[0m                 \u001b[1;32mfor\u001b[0m \u001b[0manim\u001b[0m\u001b[1;33m,\u001b[0m \u001b[0md\u001b[0m \u001b[1;32min\u001b[0m \u001b[0mzip\u001b[0m\u001b[1;33m(\u001b[0m\u001b[0mall_anim\u001b[0m\u001b[1;33m,\u001b[0m \u001b[0mdata\u001b[0m\u001b[1;33m)\u001b[0m\u001b[1;33m:\u001b[0m\u001b[1;33m\u001b[0m\u001b[1;33m\u001b[0m\u001b[0m\n\u001b[0;32m   1140\u001b[0m                     \u001b[1;31m# TODO: See if turning off blit is really necessary\u001b[0m\u001b[1;33m\u001b[0m\u001b[1;33m\u001b[0m\u001b[1;33m\u001b[0m\u001b[0m\n\u001b[1;32m-> 1141\u001b[1;33m                     \u001b[0manim\u001b[0m\u001b[1;33m.\u001b[0m\u001b[0m_draw_next_frame\u001b[0m\u001b[1;33m(\u001b[0m\u001b[0md\u001b[0m\u001b[1;33m,\u001b[0m \u001b[0mblit\u001b[0m\u001b[1;33m=\u001b[0m\u001b[1;32mFalse\u001b[0m\u001b[1;33m)\u001b[0m\u001b[1;33m\u001b[0m\u001b[1;33m\u001b[0m\u001b[0m\n\u001b[0m\u001b[0;32m   1142\u001b[0m                     \u001b[1;32mif\u001b[0m \u001b[0mprogress_callback\u001b[0m \u001b[1;32mis\u001b[0m \u001b[1;32mnot\u001b[0m \u001b[1;32mNone\u001b[0m\u001b[1;33m:\u001b[0m\u001b[1;33m\u001b[0m\u001b[1;33m\u001b[0m\u001b[0m\n\u001b[0;32m   1143\u001b[0m                         \u001b[0mprogress_callback\u001b[0m\u001b[1;33m(\u001b[0m\u001b[0mframe_number\u001b[0m\u001b[1;33m,\u001b[0m \u001b[0mtotal_frames\u001b[0m\u001b[1;33m)\u001b[0m\u001b[1;33m\u001b[0m\u001b[1;33m\u001b[0m\u001b[0m\n",
      "\u001b[1;32mc:\\ProgramData\\Anaconda3\\lib\\site-packages\\matplotlib\\animation.py\u001b[0m in \u001b[0;36m_draw_next_frame\u001b[1;34m(self, framedata, blit)\u001b[0m\n\u001b[0;32m   1174\u001b[0m         \u001b[1;31m# post- draw, as well as the drawing of the frame itself.\u001b[0m\u001b[1;33m\u001b[0m\u001b[1;33m\u001b[0m\u001b[1;33m\u001b[0m\u001b[0m\n\u001b[0;32m   1175\u001b[0m         \u001b[0mself\u001b[0m\u001b[1;33m.\u001b[0m\u001b[0m_pre_draw\u001b[0m\u001b[1;33m(\u001b[0m\u001b[0mframedata\u001b[0m\u001b[1;33m,\u001b[0m \u001b[0mblit\u001b[0m\u001b[1;33m)\u001b[0m\u001b[1;33m\u001b[0m\u001b[1;33m\u001b[0m\u001b[0m\n\u001b[1;32m-> 1176\u001b[1;33m         \u001b[0mself\u001b[0m\u001b[1;33m.\u001b[0m\u001b[0m_draw_frame\u001b[0m\u001b[1;33m(\u001b[0m\u001b[0mframedata\u001b[0m\u001b[1;33m)\u001b[0m\u001b[1;33m\u001b[0m\u001b[1;33m\u001b[0m\u001b[0m\n\u001b[0m\u001b[0;32m   1177\u001b[0m         \u001b[0mself\u001b[0m\u001b[1;33m.\u001b[0m\u001b[0m_post_draw\u001b[0m\u001b[1;33m(\u001b[0m\u001b[0mframedata\u001b[0m\u001b[1;33m,\u001b[0m \u001b[0mblit\u001b[0m\u001b[1;33m)\u001b[0m\u001b[1;33m\u001b[0m\u001b[1;33m\u001b[0m\u001b[0m\n\u001b[0;32m   1178\u001b[0m \u001b[1;33m\u001b[0m\u001b[0m\n",
      "\u001b[1;32mc:\\ProgramData\\Anaconda3\\lib\\site-packages\\matplotlib\\animation.py\u001b[0m in \u001b[0;36m_draw_frame\u001b[1;34m(self, framedata)\u001b[0m\n\u001b[0;32m   1724\u001b[0m         \u001b[1;31m# Call the func with framedata and args. If blitting is desired,\u001b[0m\u001b[1;33m\u001b[0m\u001b[1;33m\u001b[0m\u001b[1;33m\u001b[0m\u001b[0m\n\u001b[0;32m   1725\u001b[0m         \u001b[1;31m# func needs to return a sequence of any artists that were modified.\u001b[0m\u001b[1;33m\u001b[0m\u001b[1;33m\u001b[0m\u001b[1;33m\u001b[0m\u001b[0m\n\u001b[1;32m-> 1726\u001b[1;33m         \u001b[0mself\u001b[0m\u001b[1;33m.\u001b[0m\u001b[0m_drawn_artists\u001b[0m \u001b[1;33m=\u001b[0m \u001b[0mself\u001b[0m\u001b[1;33m.\u001b[0m\u001b[0m_func\u001b[0m\u001b[1;33m(\u001b[0m\u001b[0mframedata\u001b[0m\u001b[1;33m,\u001b[0m \u001b[1;33m*\u001b[0m\u001b[0mself\u001b[0m\u001b[1;33m.\u001b[0m\u001b[0m_args\u001b[0m\u001b[1;33m)\u001b[0m\u001b[1;33m\u001b[0m\u001b[1;33m\u001b[0m\u001b[0m\n\u001b[0m\u001b[0;32m   1727\u001b[0m         \u001b[1;32mif\u001b[0m \u001b[0mself\u001b[0m\u001b[1;33m.\u001b[0m\u001b[0m_blit\u001b[0m\u001b[1;33m:\u001b[0m\u001b[1;33m\u001b[0m\u001b[1;33m\u001b[0m\u001b[0m\n\u001b[0;32m   1728\u001b[0m             \u001b[1;32mif\u001b[0m \u001b[0mself\u001b[0m\u001b[1;33m.\u001b[0m\u001b[0m_drawn_artists\u001b[0m \u001b[1;32mis\u001b[0m \u001b[1;32mNone\u001b[0m\u001b[1;33m:\u001b[0m\u001b[1;33m\u001b[0m\u001b[1;33m\u001b[0m\u001b[0m\n",
      "\u001b[1;32m<ipython-input-28-0c7342423d3f>\u001b[0m in \u001b[0;36mupdate\u001b[1;34m(self, i)\u001b[0m\n\u001b[0;32m     45\u001b[0m     \u001b[1;32mdef\u001b[0m \u001b[0mupdate\u001b[0m\u001b[1;33m(\u001b[0m\u001b[0mself\u001b[0m\u001b[1;33m,\u001b[0m \u001b[0mi\u001b[0m\u001b[1;33m)\u001b[0m\u001b[1;33m:\u001b[0m\u001b[1;33m\u001b[0m\u001b[1;33m\u001b[0m\u001b[0m\n\u001b[0;32m     46\u001b[0m         \u001b[1;34m\"\"\"Update the scatter plot.\"\"\"\u001b[0m\u001b[1;33m\u001b[0m\u001b[1;33m\u001b[0m\u001b[0m\n\u001b[1;32m---> 47\u001b[1;33m         \u001b[0mdata\u001b[0m \u001b[1;33m=\u001b[0m \u001b[0mnext\u001b[0m\u001b[1;33m(\u001b[0m\u001b[0mself\u001b[0m\u001b[1;33m.\u001b[0m\u001b[0mstream\u001b[0m\u001b[1;33m)\u001b[0m\u001b[1;33m\u001b[0m\u001b[1;33m\u001b[0m\u001b[0m\n\u001b[0m\u001b[0;32m     48\u001b[0m         \u001b[1;31m# Set x and y data...\u001b[0m\u001b[1;33m\u001b[0m\u001b[1;33m\u001b[0m\u001b[1;33m\u001b[0m\u001b[0m\n\u001b[0;32m     49\u001b[0m         \u001b[0mself\u001b[0m\u001b[1;33m.\u001b[0m\u001b[0mscat\u001b[0m\u001b[1;33m.\u001b[0m\u001b[0mset_offsets\u001b[0m\u001b[1;33m(\u001b[0m\u001b[0mdata\u001b[0m\u001b[1;33m[\u001b[0m\u001b[1;33m:\u001b[0m\u001b[1;33m,\u001b[0m \u001b[1;33m:\u001b[0m\u001b[1;36m2\u001b[0m\u001b[1;33m]\u001b[0m\u001b[1;33m)\u001b[0m\u001b[1;33m\u001b[0m\u001b[1;33m\u001b[0m\u001b[0m\n",
      "\u001b[1;31mStopIteration\u001b[0m: "
     ]
    },
    {
     "data": {
      "image/png": "[encoded data removed]",
      "text/plain": [
       "<Figure size 1080x1080 with 1 Axes>"
      ]
     },
     "metadata": {
      "needs_background": "light"
     },
     "output_type": "display_data"
    }
   ],
   "source": [
    "\n",
    "import matplotlib.pyplot as plt\n",
    "import matplotlib.animation as animation\n",
    "import numpy as np\n",
    "import matplotlib.pyplot as plt\n",
    "from IPython import display\n",
    "plt.rcParams['animation.ffmpeg_path'] = './ffmpeg.exe'\n",
    "\n",
    "\n",
    "\n",
    "\n",
    "class AnimatedScatter(object):\n",
    "    \"\"\"An animated scatter plot using matplotlib.animations.FuncAnimation.\"\"\"\n",
    "\n",
    "    def __init__(self, numpoints=steps):\n",
    "        self.numpoints = numpoints\n",
    "        self.particles = particles\n",
    "        self.stream = positionGenerator()\n",
    "\n",
    "        # Setup the figure and axes...\n",
    "        self.fig, self.ax = plt.subplots()\n",
    "        self.fig.set_figheight(15)\n",
    "        self.fig.set_figwidth(15)\n",
    "        # Then setup FuncAnimation.\n",
    "        self.ani = animation.FuncAnimation(self.fig, self.update, interval=25, frames=500,\n",
    "                                           init_func=self.setup_plot, blit=True)\n",
    "        self.ani.save('scatter.mp4', writer='ffmpeg', fps=40, dpi=100, metadata={'title':'test'})\n",
    "        #video = self.ani.to_html5_video()\n",
    "        #html = display.HTML(video)\n",
    "        #display.display(html)\n",
    "        plt.close()                   # avoid plotting a spare static plot\n",
    "\n",
    "    def setup_plot(self):\n",
    "        \"\"\"Initial drawing of the scatter plot.\"\"\"\n",
    "        \n",
    "        x, y = next(self.stream).T\n",
    "        self.scat = self.ax.scatter(x, y, s=s, c=c)\n",
    "        self.ax.axis([mmin, mmax, mmin, mmax])\n",
    "        # For FuncAnimation's sake, we need to return the artist we'll be using\n",
    "        # Note that it expects a sequence of artists, thus the trailing comma.\n",
    "\n",
    "\n",
    "        return self.scat,\n",
    "\n",
    "\n",
    "    def update(self, i):\n",
    "        \"\"\"Update the scatter plot.\"\"\"\n",
    "        data = next(self.stream)\n",
    "        # Set x and y data...\n",
    "        self.scat.set_offsets(data[:, :2])\n",
    "        # Set sizes...\n",
    "\n",
    "        # We need to return the updated artist for FuncAnimation to draw..\n",
    "        # Note that it expects a sequence of artists, thus the trailing comma.\n",
    "        return self.scat,\n",
    "\n",
    "a = AnimatedScatter()\n",
    "plt.show()\n"
   ]
  }
 ],
 "metadata": {
  "kernelspec": {
   "display_name": "Python 3",
   "language": "python",
   "name": "python3"
  },
  "language_info": {
   "codemirror_mode": {
    "name": "ipython",
    "version": 3
   },
   "file_extension": ".py",
   "mimetype": "text/x-python",
   "name": "python",
   "nbconvert_exporter": "python",
   "pygments_lexer": "ipython3",
   "version": "3.9.13"
  },
  "orig_nbformat": 4,
  "vscode": {
   "interpreter": {
    "hash": "5f9ca612c569958f97f2a79e6ebc17c52b87dacc1a16cb67f6ad48437920032c"
   }
  }
 },
 "nbformat": 4,
 "nbformat_minor": 2
}

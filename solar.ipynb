{
 "cells": [
  {
   "cell_type": "code",
   "execution_count": null,
   "metadata": {},
   "outputs": [],
   "source": []
  },
  {
   "cell_type": "code",
   "execution_count": 618,
   "metadata": {},
   "outputs": [],
   "source": [
    "import numpy as np\n",
    "import matplotlib.pyplot as plt\n",
    "\n",
    "gravConst = 6.6743 * (10**(-11)) \n",
    "mass_sun = 1.989 * (10**30) * np.sqrt(gravConst)\n",
    "mass_mercury = 3.285 * (10**23)  * np.sqrt(gravConst)\n",
    "mass_venus = 4.867 * (10**24)  * np.sqrt(gravConst)\n",
    "mass_earth = 5.972 * (10**24)  * np.sqrt(gravConst)\n",
    "mass_mars = 6.39 * (10**23)  * np.sqrt(gravConst)\n",
    "mass_moon = 7.342 * (10**22)  * np.sqrt(gravConst)\n",
    "distance_mercury = 63.867 * (10**9)\n",
    "distance_venus = 108.84 * (10**9)\n",
    "distance_earth = 152.1 * (10**9)\n",
    "distance_mars = 230.66 * (10**9)\n",
    "distance_moon = 384.4 * (10**6)\n",
    "velocity_mercury = 47870\n",
    "velocity_venus = 35020\n",
    "velocity_earth = 29300\n",
    "velocity_mars = 24077\n",
    "velocity_moon = 1022\n",
    "offsetspeed = np.array([000, 000, 0])\n",
    "\n",
    "year = 60 * 60 * 24* 365.2"
   ]
  },
  {
   "cell_type": "markdown",
   "metadata": {},
   "source": [
    "Defining a general class for a Particle with a mass a position and a velocity.\n",
    "\n",
    "Where the actual mass is equal to\n",
    "$$ \\frac{self.mass}{\\sqrt{G}}$$"
   ]
  },
  {
   "cell_type": "code",
   "execution_count": 625,
   "metadata": {},
   "outputs": [],
   "source": [
    "class Particle:\n",
    "    def __init__(self, name, mass, coord, velocity, color):\n",
    "        self.name = name\n",
    "        self.mass = mass\n",
    "        self.coord = np.array([coord[\"x\"], coord[\"y\"], coord[\"z\"]])\n",
    "        self.velocity = np.array([velocity[\"x\"],velocity[\"y\"], velocity[\"z\"]])\n",
    "        self.color = color\n",
    "    \n",
    "    def accelerate(self, force, dt):\n",
    "        # delta is the velocity the particle is accelerated by in the timestep h\n",
    "        a = force / (self.mass / np.sqrt(gravConst))\n",
    "        delta = a * dt\n",
    "        self.velocity = self.velocity + delta\n",
    "\n",
    "    def move(self, dt):\n",
    "        # delta is the distance the particle is moved by in the timestep h\n",
    "        delta = self.velocity * dt\n",
    "        self.coord = self.coord + delta\n",
    "\n",
    "    def kineticEnergy(self):\n",
    "        return self.mass / 2 * np.linalg.norm(self.velocity)**2\n",
    "\n",
    "    def potEnergy(self, otherParticle):\n",
    "        diff = np.subtract(self.coord, otherParticle.coord)\n",
    "        radius = np.linalg.norm(diff)\n",
    "        return - self.mass * otherParticle.mass / radius\n",
    "    "
   ]
  },
  {
   "cell_type": "markdown",
   "metadata": {},
   "source": [
    "Defining a function to calculate the gravitational force between 2 give Particles"
   ]
  },
  {
   "cell_type": "code",
   "execution_count": 620,
   "metadata": {},
   "outputs": [],
   "source": [
    "def gravityForce(particle1, particle2):\n",
    "    diff = np.subtract(particle2.coord, particle1.coord)\n",
    "    radius = np.linalg.norm(diff)\n",
    "    f_abs = particle1.mass * particle2.mass / (radius**2)\n",
    "    #return force that applys on particle1\n",
    "    return f_abs * (diff/radius) \n",
    "    \n",
    "\n",
    "\n"
   ]
  },
  {
   "cell_type": "markdown",
   "metadata": {},
   "source": [
    "Create Particles"
   ]
  },
  {
   "cell_type": "code",
   "execution_count": 626,
   "metadata": {},
   "outputs": [],
   "source": [
    "\n",
    "star = Particle(\"Sun\", mass_sun, {\"x\": 0, \"y\": 0, \"z\": 0 },{\"x\": 0, \"y\": 0, \"z\": 0 }, \"#FFEE77\" )\n",
    "#star = Particle(\"sun\", 1000, {\"x\": 0, \"y\": 0, \"z\": 0 },{\"x\": -0.001, \"y\": 0, \"z\": 0 } )\n",
    "mercury = Particle(\"Mercury\", mass_mercury, {\"x\": 0, \"y\": distance_mercury, \"z\": 0 },{\"x\": velocity_mercury, \"y\": 0, \"z\": 0 }, \"#DDCC44\" )\n",
    "venus = Particle(\"Venus\", mass_venus, {\"x\": 0, \"y\": distance_venus, \"z\": 0 },{\"x\": velocity_venus, \"y\": 0, \"z\": 0 }, \"#884400\" )\n",
    "earth = Particle(\"Earth\", mass_earth, {\"x\": 0, \"y\": distance_earth, \"z\": 0 },{\"x\": velocity_earth, \"y\": 0, \"z\": 0 }, \"#002277\" )\n",
    "mars = Particle(\"Mars\", mass_mars, {\"x\": 0, \"y\": distance_mars, \"z\": 0 },{\"x\": velocity_mars, \"y\": 0, \"z\": 0 }, \"#EE1111\" )\n",
    "moon = Particle(\"Moon\", mass_moon, {\"x\": distance_moon, \"y\": distance_earth, \"z\": 0 },{\"x\": velocity_earth, \"y\": velocity_moon, \"z\": 0 }, \"#666666\")\n",
    "particles = [star, mercury, venus, earth, mars, moon]\n",
    "particles = [star, earth, moon]\n",
    "for pt in particles:\n",
    "    pt.velocity += offsetspeed"
   ]
  },
  {
   "cell_type": "markdown",
   "metadata": {},
   "source": [
    "Verlet Algorithm"
   ]
  },
  {
   "cell_type": "code",
   "execution_count": 627,
   "metadata": {},
   "outputs": [],
   "source": [
    "def verlet(particles, h, steps):\n",
    "    mmin = np.amin(particles[0].coord)\n",
    "    mmax = np.amax(particles[0].coord)\n",
    "    t_axis = np.linspace(0, steps*h, num=steps)\n",
    "    energy = np.zeros(steps)\n",
    "    p_axes = []\n",
    "    for p in particles:\n",
    "        p_axes.append([np.zeros(steps), np.zeros(steps), np.zeros(steps)])\n",
    "\n",
    "    for pti in particles:\n",
    "        for ptj in particles: \n",
    "            if ptj == pti:\n",
    "                continue\n",
    "            force = gravityForce(pti, ptj)\n",
    "            pti.accelerate(force, h/2)\n",
    "    for i in range(steps):\n",
    "        for p, pti in enumerate(particles):\n",
    "            pti.move(h)\n",
    "            force = np.zeros(3)\n",
    "            for ptj in particles: \n",
    "                if pti == ptj:\n",
    "                    continue\n",
    "                energy[i] += pti.potEnergy(ptj)\n",
    "                force += gravityForce(pti, ptj)\n",
    "         \n",
    "            pti.accelerate(force, h)\n",
    "            energy[i] += pti.kineticEnergy()\n",
    "        \n",
    "            p_axes[p][0][i] = pti.coord[0]\n",
    "            p_axes[p][1][i] = pti.coord[1]\n",
    "            p_axes[p][2][i] = pti.coord[2]\n",
    "            mmin = min(mmin, np.amin(pti.coord))\n",
    "            mmax = max(mmax, np.amax(pti.coord))\n",
    "        if i/steps*100%10 == 0: \n",
    "            print(i/steps*100,\"%\")\n",
    "    fig , ax = plt.subplots()\n",
    "    \n",
    "    for p, pt in enumerate(particles):\n",
    "        ax.plot(p_axes[p][0],  p_axes[p][1], c=pt.color, label=pt.name)\n",
    "    mmin -= (mmax - mmin) / 25\n",
    "    mmax += (mmax - mmin) / 25\n",
    "    fig.set_figwidth(20)\n",
    "    fig.set_figheight(20)\n",
    "    plt.xlim([mmin, mmax])\n",
    "    plt.ylim([mmin, mmax])\n",
    "    plt.legend()\n",
    "    plt.show()\n",
    "\n",
    "    fig2 , ax2 = plt.subplots()\n",
    "    ax2.plot(t_axis, energy, 'r-', label='energy')\n",
    "    \n",
    "    plt.legend()\n",
    "    plt.show()\n",
    "\n"
   ]
  },
  {
   "cell_type": "code",
   "execution_count": 628,
   "metadata": {},
   "outputs": [
    {
     "name": "stdout",
     "output_type": "stream",
     "text": [
      "0.0 %\n",
      "10.0 %\n",
      "20.0 %\n",
      "30.0 %\n",
      "40.0 %\n",
      "50.0 %\n",
      "60.0 %\n",
      "70.0 %\n"
     ]
    }
   ],
   "source": [
    "\n",
    "verlet(particles, 500, 200000)\n",
    "#verlet(particles, 0.1, 60000)"
   ]
  },
  {
   "cell_type": "code",
   "execution_count": null,
   "metadata": {},
   "outputs": [],
   "source": []
  }
 ],
 "metadata": {
  "kernelspec": {
   "display_name": "Python 3.9.13 64-bit",
   "language": "python",
   "name": "python3"
  },
  "language_info": {
   "codemirror_mode": {
    "name": "ipython",
    "version": 3
   },
   "file_extension": ".py",
   "mimetype": "text/x-python",
   "name": "python",
   "nbconvert_exporter": "python",
   "pygments_lexer": "ipython3",
   "version": "3.9.13"
  },
  "orig_nbformat": 4,
  "vscode": {
   "interpreter": {
    "hash": "5f9ca612c569958f97f2a79e6ebc17c52b87dacc1a16cb67f6ad48437920032c"
   }
  }
 },
 "nbformat": 4,
 "nbformat_minor": 2
}

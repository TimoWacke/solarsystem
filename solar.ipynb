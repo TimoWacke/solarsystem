{
 "cells": [
  {
   "cell_type": "code",
   "execution_count": null,
   "metadata": {},
   "outputs": [],
   "source": []
  },
  {
   "cell_type": "code",
   "execution_count": 808,
   "metadata": {},
   "outputs": [],
   "source": [
    "import numpy as np\n",
    "import matplotlib.pyplot as plt\n",
    "\n",
    "gravConst = 6.6743 * (10**(-11)) \n",
    "mass_earth = 5.972 * (10**24)\n",
    "mass_sun = 1.989 * (10**30)\n",
    "distance_sun = 200 * (10**9)\n",
    "year = 60 * 60 * 24* 365.25\n",
    "umlaufbahn = 2 * 147 * (10**9) * np.pi\n",
    "velocity_earth = umlaufbahn / year * 300\n",
    "steps = 10000\n",
    "h = year / steps"
   ]
  },
  {
   "cell_type": "markdown",
   "metadata": {},
   "source": [
    "Defining a general class for a Particle with a mass a position and a velocity.\n",
    "\n",
    "Where the actual mass is equal to\n",
    "$$ \\frac{self.mass}{\\sqrt{G}}$$"
   ]
  },
  {
   "cell_type": "code",
   "execution_count": 809,
   "metadata": {},
   "outputs": [],
   "source": [
    "class Particle:\n",
    "    def __init__(self, mass, coord, velocity):\n",
    "        self.mass = mass\n",
    "        self.coord = np.array([coord[\"x\"], coord[\"y\"], coord[\"z\"]])\n",
    "        self.velocity = np.array([velocity[\"x\"],velocity[\"y\"], velocity[\"z\"]])\n",
    "    \n",
    "    def accelerate(self, force, dt):\n",
    "        # delta is the velocity the particle is accelerated by in the timestep h\n",
    "        a = force / self.mass\n",
    "        delta = a * dt\n",
    "        self.velocity = self.velocity + delta\n",
    "\n",
    "    def move(self, dt):\n",
    "        # delta is the distance the particle is moved by in the timestep h\n",
    "        delta = self.velocity * dt\n",
    "        self.coord = self.coord + delta\n",
    "\n",
    "    def kineticEnergy(self):\n",
    "        return self.mass / 2 * np.linalg.norm(self.velocity)**2\n",
    "\n",
    "    def potEnergy(self, otherParticle):\n",
    "        diff = np.subtract(self.coord, otherParticle.coord)\n",
    "        radius = np.linalg.norm(diff)\n",
    "        return - self.mass * otherParticle.mass / radius\n",
    "    "
   ]
  },
  {
   "cell_type": "markdown",
   "metadata": {},
   "source": [
    "Defining a function to calculate the gravitational force between 2 give Particles"
   ]
  },
  {
   "cell_type": "code",
   "execution_count": 810,
   "metadata": {},
   "outputs": [],
   "source": [
    "def gravityForce(particle1, particle2):\n",
    "    diff = np.subtract(particle2.coord, particle1.coord)\n",
    "    radius = np.linalg.norm(diff)\n",
    "    f_abs = particle1.mass * particle2.mass / (radius**2)\n",
    "    #return force that applys on particle1\n",
    "    return f_abs * (diff/radius) \n",
    "    \n",
    "\n",
    "\n"
   ]
  },
  {
   "cell_type": "markdown",
   "metadata": {},
   "source": [
    "Create 2 Particles"
   ]
  },
  {
   "cell_type": "code",
   "execution_count": 811,
   "metadata": {},
   "outputs": [],
   "source": [
    "star = Particle(mass_sun*np.sqrt(gravConst), {\"x\": 0, \"y\": 0, \"z\": 0 },{\"x\": 0, \"y\": 0, \"z\": 0 } )\n",
    "#star = Particle(1000, {\"x\": 0, \"y\": 0, \"z\": 0 },{\"x\": 0, \"y\": 0, \"z\": 0 } )\n",
    "planet = Particle(mass_earth*np.sqrt(gravConst), {\"x\": 0, \"y\": distance_sun, \"z\": 0 },{\"x\": velocity_earth, \"y\": 0, \"z\": 0 } )\n",
    "#planet = Particle(1, {\"x\": 0, \"y\": 10, \"z\": 0 },{\"x\": 10, \"y\": 0, \"z\": 0 } )\n"
   ]
  },
  {
   "cell_type": "markdown",
   "metadata": {},
   "source": [
    "Verlet Algorithm"
   ]
  },
  {
   "cell_type": "code",
   "execution_count": 812,
   "metadata": {},
   "outputs": [],
   "source": [
    "def verlet(star, planet, h, steps):\n",
    "    t_axis = np.linspace(0, steps*h, num=steps)\n",
    "    star_x = np.zeros(steps)\n",
    "    star_y = np.zeros(steps)\n",
    "    star_z = np.zeros(steps)\n",
    "    planet_x = np.zeros(steps)\n",
    "    planet_y = np.zeros(steps)\n",
    "    planet_z = np.zeros(steps)\n",
    "    energy = np.zeros(steps)\n",
    "\n",
    "    \n",
    "    force = gravityForce(star, planet)\n",
    "    star.accelerate(force, h/2)\n",
    "    planet.accelerate(-force, h/2)\n",
    "    for i in range(steps):\n",
    "        \n",
    "        star.move(h)\n",
    "        planet.move(h)\n",
    "        energy[i] += planet.potEnergy(star) + star.potEnergy(planet)\n",
    "        force = gravityForce(star, planet)\n",
    "        star.accelerate(force, h)\n",
    "        planet.accelerate(-force, h)\n",
    "        energy[i] += planet.kineticEnergy() + star.kineticEnergy()\n",
    "        \n",
    "        star_x[i] = star.coord[0]\n",
    "        star_y[i] = star.coord[1]\n",
    "        star_z[i] = star.coord[2]\n",
    "        planet_x[i] = planet.coord[0]\n",
    "        planet_y[i] = planet.coord[1]\n",
    "        planet_z[i] = planet.coord[2]\n",
    "    \n",
    "    fig , ax = plt.subplots()\n",
    "    ax.plot(star_x, star_y, 'r-', label='star')\n",
    "    ax.plot(planet_x, planet_y, 'b-', label='planet')\n",
    "    \n",
    "    plt.legend()\n",
    "    plt.show()\n",
    "\n",
    "    fig2 , ax2 = plt.subplots()\n",
    "    ax2.plot(t_axis, energy, 'r-', label='energy')\n",
    "    plt.legend()\n",
    "    plt.show()\n",
    "\n"
   ]
  },
  {
   "cell_type": "code",
   "execution_count": 813,
   "metadata": {},
   "outputs": [
    {
     "data": {
      "image/png": "[encoded data removed]",
      "text/plain": [
       "<Figure size 432x288 with 1 Axes>"
      ]
     },
     "metadata": {
      "needs_background": "light"
     },
     "output_type": "display_data"
    },
    {
     "data": {
      "image/png": "[encoded data removed]",
      "text/plain": [
       "<Figure size 432x288 with 1 Axes>"
      ]
     },
     "metadata": {
      "needs_background": "light"
     },
     "output_type": "display_data"
    }
   ],
   "source": [
    "verlet(star, planet, 10, 100000)\n",
    "#verlet(star, planet, 0.1, 60000)"
   ]
  }
 ],
 "metadata": {
  "kernelspec": {
   "display_name": "Python 3.9.13 64-bit",
   "language": "python",
   "name": "python3"
  },
  "language_info": {
   "codemirror_mode": {
    "name": "ipython",
    "version": 3
   },
   "file_extension": ".py",
   "mimetype": "text/x-python",
   "name": "python",
   "nbconvert_exporter": "python",
   "pygments_lexer": "ipython3",
   "version": "3.9.13"
  },
  "orig_nbformat": 4,
  "vscode": {
   "interpreter": {
    "hash": "5f9ca612c569958f97f2a79e6ebc17c52b87dacc1a16cb67f6ad48437920032c"
   }
  }
 },
 "nbformat": 4,
 "nbformat_minor": 2
}

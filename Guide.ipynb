{
 "cells": [
  {
   "attachments": {},
   "cell_type": "markdown",
   "metadata": {},
   "source": [
    "# CiS - Projekt\n",
    "\n",
    "Micha von der Osten-Sacken<br>\n",
    "Timo Wacke\n",
    "\n",
    "## <b>Numerische Berechnung von Planetenbahnen<b>"
   ]
  },
  {
   "attachments": {},
   "cell_type": "markdown",
   "metadata": {},
   "source": [
    "## Solarsystem\n",
    "\n",
    "Um ein Solarsystem nach dem Vorbild des Unseren zu simulieren haben wir in der Datei Solar.py die Massen, \n",
    "Distanzen zur Sonne und Bahngeschwindigkeiten von den Planeten und unserem Mond definiert."
   ]
  },
  {
   "cell_type": "code",
   "execution_count": null,
   "metadata": {},
   "outputs": [],
   "source": [
    "#verify that Solar.py and progressBar.py are in the same directory as this jupyter Notebook\n",
    "import Solar as sol \n"
   ]
  },
  {
   "attachments": {},
   "cell_type": "markdown",
   "metadata": {},
   "source": [
    "## Verfahren\n",
    "Die Bewegungsgleichung für 3 oder mehr Körper lässt sich im Allgemeinen nicht analytisch lösen.<br>\n",
    "Numerisch gibt es verschieden Anstäze:\n",
    "\n",
    "<b>Trivial Euler Verfahren:</b>\n",
    "\n",
    "Zu einer Startposition $\\vec{r}(0)$ mit gegebenem $\\vec{v}(0)$ und einem gewählten Zeitschritt $dt$, berechnet man iterativ die Koordinaten für die folgenden Koordinaten nach der Vorschrift:\n",
    "$$\\vec{r}(t+dt)=\\vec{r}(t) + dt \\cdot \\vec{v}(t)$$\n",
    "wobei sich jeweils das neue $\\vec{v}(t)$ für einen nächsten Schritt aus der Kraft $\\vec{F}(r)$ welche bei \\vec{r}(t) auf den Körper wirkt berechnet.\n",
    "$$\\vec{a}=\\vec{F}/m \\\\ \\vec{v}(t+dt)=\\vec{v}(t)+\\vec{a}(t+dt) \\cdot dt$$\n",
    "Um die weiteren Zeitschritte zu berechnen, ist das erfahren zu Widerholen bzw. $t=t+dt$ zu setzen.<br>\n",
    "Dieses Verfahren ist aber sehr instabil, denn selbst bei einer konstanten Beschleunigung ist die Geschwindigkeit mit der bei einem Zeitschritt gerechnet wird immer nur für den Anfangszeitpunkt des Zeitschrittes exakt und danach immer zu wenig in die beschleunigte Richtung. Für eine konstante Kraft kommt so in jedem Zeitschritt der gleiche Fehler hinzu und der summiert sich auf und wird immer größer. Beim Beispiel der Planetenbewegung ist die Kraft zwar nicht konstant, aber immer nach innen gerichtet, sodass der Planet bei dem Verfahren immer nicht weit genug nach innen beschleunigt wird, und immer weiter nach außen wegdriftet.\n",
    "Berechnet man zu erst $\\vec{v}(t + dt)$ und mit dieser Geschwindigkeit dann $\\vec{r}(t + dt)$ so wird die Beschleunigung zu weit nach innen gerichtet sein, und der Planet immer weiter nach innen driften.<br>\n",
    "<br>\n",
    "Durch möglichst kleine Zeitschritte lässt sich der Fehler und damit der Drift zwar minimieren aber nicht beseitigen.\n",
    "Vergleichbar mit der Unter und Obersumme beim Integrieren.\n",
    "\n",
    "<b>Besser Verlet Verfahren:</b>\n",
    "\n",
    "Vor dem ersten Schritt berechnet man die Kraft $\\vec{F}(r)$ und die daraus resultierende Beschleunigung $\\vec{a}=\\vec{F}/m$ die auf den Körper an den entsprechenden Startkoordinaten wirkt.<br>\n",
    "Dann passt man die Geschwindigkeit nur um die Beschleunigung für einen halben Zeitschritt an: $$\\vec{v}(t + ½ dt) = \\vec{v}(t) + ½ dt \\cdot \\vec{a}(t).$$\n",
    "Wenn wir von nun an $$\\vec{r}(t + dt)$$ berechnen machen wir das auf der Grundlage von \\vec{v}(t + ½ dt )<br>\n",
    "Und wenn wir \\vec{v}(t + dt + ½ dt ) berechnen machen wir das auf der Grundlage von \\vec{F}(t + dt).<br>\n",
    "Dann werden in jedem Zeitschritt die Koordinaten $\\vec{r}(t+dt)=\\vec{r}(t)+\\vec{v}(t+½ \\cdot dt) \\cdot dt$ anhand der Geschwindigkeit zum Zeitpunkt in der Mitte des Zeitschrittes berechnet. Und die Geschwindigkeit $\\vec{v}(t+3/2 \\cdot dt)=\\vec{v}(t+½ \\cdot dt)+\\vec{a}(t+dt) \\cdot dt$ wird anhand der Beschleunigung aus der Kraft zu den Koordinaten von ganzzahligen Zeitschritten berechnet, wobei das wieder die Beschleunigung zu dem Zeitpunkt ist, der genau in der Mitte zwischen den Zeitpunkten liegt, für die die Geschwindigkeiten berechnet wurden.\n",
    "Also wäre die Rechnung schonmal für sich linear mit der Zeit ändernde Beschleunigungen und Geschwindigkeiten exakt und der Rechenaufwand ist kaum gestiegen\n",
    "Das Verlet verfahren lässt sich auch über eine Taylorentwicklung zur 3. Ordnung von der Mitte in beide Richtungen herleiten, der Fehler liegt damit erst in 4. Ordnung. Die antisymmetrische Anordnung des 1. und 3. Terms lässt sich diese wegkürzen, sodass der Rechenaufwand niedrig bleibt.\n",
    "Da das Verlet-Verfahren ein symplektisches ist bleibt beim Verlet-Verfahren das Volumen des Phasenraums erhalten. Dies haben wir versucht zu demonstireren im Laufe des Projekts."
   ]
  },
  {
   "attachments": {},
   "cell_type": "markdown",
   "metadata": {},
   "source": [
    "## Zeitschritte, Einheiten und Particle Class\n",
    "\n",
    "Beim Verlet-Algorithmus werden für $n$ Iterationen mit dem Zeitschritt $h$ die Positionen $\\vec{r}$ und Geschwindigkeiten $\\vec{v}$ der Massenpunkte (\"Particle\") mit folgenden Zeitschritten ausgerechnet:\n",
    "$$ \\vec{r}(t_0 + h \\cdot i) $$\n",
    "$$ \\vec{v}(t_0 - \\frac{h}{2} + h \\cdot i) $$\n",
    "wobei\n",
    "$$ i \\in {1,...,n} $$\n",
    "Die Werte für $\\vec{r}(t)$ und $\\vec{v}(t)$ eines Particle werden dabei in folgendermaßen berechnet:\n",
    "$$ \\vec{r}(t) = \\vec{r}(t-h) + h \\cdot \\vec{v}(t-\\frac{h}{2})$$\n",
    "$$ \\vec{v}(t) = \\vec{v}(t-h) + h \\cdot \\vec{a}(t-\\frac{h}{2})$$\n",
    "Dabei ist $\\vec{a}(t)$ die Beschleunigung des Particle, die aus $\\vec{r}(t)$ folgendermaßen berechnet wird:\n",
    "$$ \\vec{a} = \\frac{\\vec{F}}{m} $$\n",
    "$$ \\vec{F} = G \\cdot m \\cdot \\sum_{j=1}^p\\frac{m_j}{|\\vec{r_j}-r|^2}$$\n",
    "$$ \\Rightarrow \\vec{a} = G \\cdot \\sum_{j=1}^p\\frac{m_j}{|\\vec{r_j}-r|^2}$$\n",
    "Dabei sind $m_j$ die Massen und $\\vec{r_j}$ die Ortsvektoren der $p$ anderen Körper im System.\n",
    "Um das ständige Multiplizieren mit der Gravitationskonstante $G$ wärend der Simulation zu vermeiden, können wir stattdessen einfach zu Beginn alle Massen jeweis mit ihr multiplizieren und diese Größe $\\lambda$ statt der Masse unter particle.mass speichern. Dann berechnet sich die Beschleunigung folgendermaßen:\n",
    "$$ \\vec{a} = \\sum_{j=1}^p\\frac{\\lambda_j}{|\\vec{r_j}-r|^2}$$\n",
    "mit $$ \\lambda_j = m_j \\cdot G $$\n",
    "Dabei sind $\\lambda_j$ die mit der Gravitationskonstante multiplizierten massen particle.mass.\n",
    "Die Massen werden im Code aber auch für die Berechnung der kinetischen und potentiellen Energie verwendet, also muss bei diesen Berechnungen die Masse durch $\\frac{\\lambda}{G}$ ersetzt werden:\n",
    "$$ W_{pot}=G\\frac{-m_1 \\cdot m_2}{|\\vec{r_1}-\\vec{r_2}|} = \\frac{1}{G} \\cdot \\frac{-\\lambda_1 \\cdot \\lambda_2}{|\\vec{r_1}-\\vec{r_2}|}$$\n",
    "$$ W_{kin}=\\frac{1}{2} \\cdot m \\cdot v^2 = \\frac{1}{G} \\cdot \\lambda \\cdot v^2$$\n",
    "Bei diesen Formeln sieht man dann, dass man die Gravitationskonstante einfach weglassen kann, und alle Energien werden mit dem gleichen Faktor skaliert, sodass alle Verhältnisse noch Stimmen."
   ]
  },
  {
   "cell_type": "code",
   "execution_count": null,
   "metadata": {},
   "outputs": [],
   "source": [
    "from Particle import Particle\n",
    "\n",
    "myParticle1 = Particle(\"test1\", 1, {\"x\": 0, \"y\": 0, \"z\": 0}, {\"x\": 2, \"y\": 0, \"z\": 0}, \"#000000\")\n",
    "myParticle2 = Particle(\"test2\", 1, {\"x\": 1, \"y\": 1, \"z\": 1}, {\"x\": 2, \"y\": 0, \"z\": 0}, \"#000000\")\n",
    "print(\"initial:\")\n",
    "print(myParticle1)\n",
    "print(myParticle2)\n",
    "print(\"----------\")\n",
    "dt = 1.5\n",
    "print(\"calculate movement for\", dt, \"seconds\")\n",
    "myParticle1.move(dt)\n",
    "print(\"----------\")\n",
    "print(\"after:\")\n",
    "print(myParticle1)\n",
    "print(myParticle2)\n"
   ]
  },
  {
   "attachments": {},
   "cell_type": "markdown",
   "metadata": {},
   "source": [
    "## Particle Factory\n",
    "\n",
    "Im folgenden definieren wir einige Sets an Himmelskörpern -> \"Particles\" für die folgenden Simulationen und\n",
    "eine Methode um die Geschwindigkeiten von Particles in einer Liste so zu \"shiften\", dass der Schwerpunkt des Systems konstant ist. \n"
   ]
  },
  {
   "cell_type": "code",
   "execution_count": null,
   "metadata": {},
   "outputs": [],
   "source": [
    "from ParticleFactory import ParticleFactory\n",
    "\n",
    "testFactory = ParticleFactory(\"testName\")\n",
    "testFactory.importParticles([myParticle1, myParticle2])\n",
    "print(testFactory)\n",
    "testFactory.removeOffsetSpeed()\n",
    "print(\"... removed offset speed ...\")\n",
    "print(testFactory)\n"
   ]
  },
  {
   "attachments": {},
   "cell_type": "markdown",
   "metadata": {},
   "source": [
    "## Simulate\n",
    "\n",
    "To the simulate class you can add different simulation algorithms, that you pass a particle List and it will return a touple of coordinates (positions over time etc.) for plotting"
   ]
  },
  {
   "cell_type": "code",
   "execution_count": null,
   "metadata": {},
   "outputs": [],
   "source": [
    "from Simulate import Simulate\n",
    "testSimulate = Simulate(n = 2, h=0.1)\n",
    "print(testSimulate.verlet(testFactory.particleList))"
   ]
  },
  {
   "attachments": {},
   "cell_type": "markdown",
   "metadata": {},
   "source": [
    "# Animate Class\n",
    "\n",
    "Diese Klasse bekommt eine particleFactory übergeben, aus dieser werden die Particle, deren Farben und Größen gewonnen.<br>\n",
    "Bekommt eine simulator Funktion wie etwa verlet() aus der Simulate class übergeben. Das zu ihr gehörige simulator Objekt, kennt die Anzahl und Größe der Zeitschritte n und h, so dass die simulator Funktion nur die partliceList übergeben bekommen muss.\n",
    "\n",
    "Die Simulator Methode Verlet in der Simulat class gibt wie oben gesehen allerlei Werte zurück, die für das Plotten relevant sind."
   ]
  },
  {
   "cell_type": "code",
   "execution_count": null,
   "metadata": {},
   "outputs": [],
   "source": [
    "from Animate import Animate\n"
   ]
  },
  {
   "attachments": {},
   "cell_type": "markdown",
   "metadata": {},
   "source": [
    "## Execute\n",
    "\n",
    "1. Erstelle eine ParticleFactory mit einer Particle List\n",
    "2. Stelle sicher, dass diese keinen gesamt Impuls hat\n",
    "3. Erstelle eine Simulate umgebung und definiere hierbei die Schrittgrößen und Anzahl an Schritten\n",
    "4. Übergebe die ParticleFactory und Simulate umgebung an animate, so dass die Berechnung und danach das Plotten gestartet wird"
   ]
  },
  {
   "attachments": {},
   "cell_type": "markdown",
   "metadata": {},
   "source": [
    "#### einfache Elipse"
   ]
  },
  {
   "cell_type": "code",
   "execution_count": null,
   "metadata": {},
   "outputs": [],
   "source": [
    "p = ParticleFactory(\"Elipse\")\n",
    "p.removeOffsetSpeed()\n",
    "s = Simulate(h=0.1, n=10000)\n",
    "a = Animate(p, s.verlet)\n",
    "\n",
    "a.pathPlot()\n",
    "a.energyPlot()\n",
    "a.phaseSpace(True) #True to show 3d, False to show 2d"
   ]
  },
  {
   "attachments": {},
   "cell_type": "markdown",
   "metadata": {},
   "source": [
    "#### 2 Sonnen System"
   ]
  },
  {
   "cell_type": "code",
   "execution_count": null,
   "metadata": {},
   "outputs": [],
   "source": [
    "p = ParticleFactory(\"Tatoo\")\n",
    "p.removeOffsetSpeed()\n",
    "s = Simulate(h=10, n=1000)\n",
    "a = Animate(p, s.verlet)\n",
    "\n",
    "a.pathPlot()\n",
    "a.energyPlot()\n",
    "a.phaseSpace(True) #True to show 3d, False to show 2d\n",
    "a.closePlot()"
   ]
  },
  {
   "attachments": {},
   "cell_type": "markdown",
   "metadata": {},
   "source": [
    "#### Moon System"
   ]
  },
  {
   "cell_type": "code",
   "execution_count": null,
   "metadata": {},
   "outputs": [],
   "source": [
    "p = ParticleFactory(\"Moon System\")\n",
    "p.removeOffsetSpeed()\n",
    "s = Simulate(h=0.15, n=3000)\n",
    "a = Animate(p, s.verlet)\n",
    "\n",
    "a.pathPlot()\n",
    "a.energyPlot()\n",
    "a.phaseSpace(True) #True to show 3d, False to show 2d\n",
    "a.closePlot()"
   ]
  },
  {
   "attachments": {},
   "cell_type": "markdown",
   "metadata": {},
   "source": [
    "#### Solarsystem"
   ]
  },
  {
   "cell_type": "code",
   "execution_count": 36,
   "metadata": {},
   "outputs": [
    {
     "name": "stdout",
     "output_type": "stream",
     "text": [
      "Verlet |██████████████████████----------------------------| 45.0% Complete\r"
     ]
    }
   ],
   "source": [
    "p = ParticleFactory(\"Solar\")\n",
    "p.removeOffsetSpeed()\n",
    "s = Simulate(h=5000, n=100000)\n",
    "a = Animate(p, s.verlet)\n",
    "\n",
    "a.pathPlot()\n",
    "a.energyPlot()\n",
    "a.phaseSpace(True) #True to show 3d, False to show 2d\n",
    "a.closePlot()"
   ]
  }
 ],
 "metadata": {
  "kernelspec": {
   "display_name": "Python 3",
   "language": "python",
   "name": "python3"
  },
  "language_info": {
   "codemirror_mode": {
    "name": "ipython",
    "version": 3
   },
   "file_extension": ".py",
   "mimetype": "text/x-python",
   "name": "python",
   "nbconvert_exporter": "python",
   "pygments_lexer": "ipython3",
   "version": "3.9.13"
  },
  "orig_nbformat": 4,
  "vscode": {
   "interpreter": {
    "hash": "5f9ca612c569958f97f2a79e6ebc17c52b87dacc1a16cb67f6ad48437920032c"
   }
  }
 },
 "nbformat": 4,
 "nbformat_minor": 2
}
